{
 "cells": [
  {
   "cell_type": "markdown",
   "metadata": {},
   "source": [
    "# Kata del módulo 1"
   ]
  },
  {
   "cell_type": "markdown",
   "metadata": {},
   "source": [
    "Tu primer programa"
   ]
  },
  {
   "cell_type": "code",
   "execution_count": 5,
   "metadata": {},
   "outputs": [
    {
     "name": "stdout",
     "output_type": "stream",
     "text": [
      "Today's date is: 2022-02-09\n"
     ]
    }
   ],
   "source": [
    "from datetime import date #Importar el módulo date\n",
    "print(\"Today's date is: \"+str(date.today())) #Concatenamos date convirtiéndolo en string para que no mande error\n"
   ]
  },
  {
   "cell_type": "markdown",
   "metadata": {},
   "source": [
    "Construir un convertidor de unidades"
   ]
  },
  {
   "cell_type": "code",
   "execution_count": 6,
   "metadata": {},
   "outputs": [
    {
     "name": "stdout",
     "output_type": "stream",
     "text": [
      "11 parasec is equal to 35.877159999999996 lightyears\n"
     ]
    }
   ],
   "source": [
    "# 1 parasec= 3.26156 años luz\n",
    "parasecs=11 #Ingresar el número de parasecs\n",
    "lightyears= 3.26156*parasecs #conversión\n",
    "print(str(parasecs)+(\" parasec is equal to \")+str(lightyears)+(\" lightyears\"))\n"
   ]
  }
 ],
 "metadata": {
  "interpreter": {
   "hash": "a1c5f9e94a611d46713704179f81b5c639045e9260ff7c34e2300cf8f56614e1"
  },
  "kernelspec": {
   "display_name": "Python 3.10.2 64-bit",
   "language": "python",
   "name": "python3"
  },
  "language_info": {
   "codemirror_mode": {
    "name": "ipython",
    "version": 3
   },
   "file_extension": ".py",
   "mimetype": "text/x-python",
   "name": "python",
   "nbconvert_exporter": "python",
   "pygments_lexer": "ipython3",
   "version": "3.10.2"
  },
  "orig_nbformat": 4
 },
 "nbformat": 4,
 "nbformat_minor": 2
}
